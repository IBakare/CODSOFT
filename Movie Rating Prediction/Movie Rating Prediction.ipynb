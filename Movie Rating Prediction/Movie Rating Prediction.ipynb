{
 "cells": [
  {
   "cell_type": "code",
   "execution_count": 25,
   "id": "513020b1",
   "metadata": {},
   "outputs": [],
   "source": [
    "## Basic Libraries\n",
    "\n",
    "import os\n",
    "import numpy as np\n",
    "import pandas as pd\n",
    "import seaborn as sns\n",
    "import matplotlib.pyplot as plt\n",
    "from sklearn.compose import ColumnTransformer\n",
    "from sklearn.impute import SimpleImputer\n",
    "from sklearn.preprocessing import StandardScaler, OneHotEncoder, MinMaxScaler, LabelEncoder\n",
    "from sklearn.pipeline import Pipeline\n",
    "from sklearn.linear_model import LogisticRegression\n",
    "from sklearn.neighbors import KNeighborsClassifier\n",
    "from sklearn.ensemble import RandomForestRegressor, GradientBoostingRegressor\n",
    "from sklearn.tree import DecisionTreeRegressor\n",
    "from sklearn.model_selection import RandomizedSearchCV\n",
    "from sklearn.datasets import make_regression\n",
    "from sklearn.impute import SimpleImputer\n",
    "from sklearn.svm import SVC\n",
    "from sklearn.metrics import classification_report\n",
    "from sklearn.model_selection import train_test_split\n",
    "import joblib  \n",
    "%matplotlib inline"
   ]
  },
  {
   "cell_type": "code",
   "execution_count": 2,
   "id": "8c02d86e",
   "metadata": {},
   "outputs": [],
   "source": [
    "import warnings\n",
    "\n",
    "with warnings.catch_warnings():\n",
    "    warnings.simplefilter(\"ignore\")"
   ]
  },
  {
   "cell_type": "code",
   "execution_count": 3,
   "id": "4c510cc0",
   "metadata": {},
   "outputs": [],
   "source": [
    "## Import data from Kaggle\n",
    "\n",
    "# Set the Kaggle config directory to the folder containing your kaggle.json file\n",
    "os.environ['KAGGLE_CONFIG_DIR'] = 'C:/Users/Ifelo/.kaggle'\n",
    "\n",
    "# Continue with Kaggle API calls\n",
    "import kaggle\n",
    "\n",
    "# Replace 'dataset-name' and 'owner-name' with your desired dataset and owner's username.\n",
    "kaggle.api.dataset_download_files('adrianmcmahon/imdb-india-movies', path='./', unzip=True)"
   ]
  },
  {
   "cell_type": "code",
   "execution_count": 4,
   "id": "cdd2b0d1",
   "metadata": {},
   "outputs": [
    {
     "name": "stdout",
     "output_type": "stream",
     "text": [
      "['.ipynb_checkpoints', 'app.py', 'IMDb Movies India.csv', 'imdb-india-movies.zip', 'knn_model.pkl', 'Movie Rating Prediction.ipynb', 'Titanic Survival Prediction.ipynb', 'Titanic-Dataset.csv']\n"
     ]
    }
   ],
   "source": [
    "# List files in the current directory to confirm the downloaded dataset\n",
    "files_in_directory = os.listdir('.')\n",
    "print(files_in_directory)"
   ]
  },
  {
   "cell_type": "code",
   "execution_count": 5,
   "id": "3fae879a",
   "metadata": {},
   "outputs": [],
   "source": [
    "# Load a CSV file from the downloaded dataset\n",
    "\n",
    "# Load a CSV file from the downloaded dataset with 'ISO-8859-1' encoding\n",
    "df = pd.read_csv('IMDb Movies India.csv', encoding='ISO-8859-1')\n"
   ]
  },
  {
   "cell_type": "code",
   "execution_count": 6,
   "id": "f1bafe7a",
   "metadata": {},
   "outputs": [
    {
     "name": "stdout",
     "output_type": "stream",
     "text": [
      "Shape of the dataset: (15509, 10)\n",
      "\n",
      "Columns in the dataset: Index(['Name', 'Year', 'Duration', 'Genre', 'Rating', 'Votes', 'Director',\n",
      "       'Actor 1', 'Actor 2', 'Actor 3'],\n",
      "      dtype='object')\n",
      "\n",
      "Data types of columns:\n",
      "Name         object\n",
      "Year         object\n",
      "Duration     object\n",
      "Genre        object\n",
      "Rating      float64\n",
      "Votes        object\n",
      "Director     object\n",
      "Actor 1      object\n",
      "Actor 2      object\n",
      "Actor 3      object\n",
      "dtype: object\n",
      "\n",
      "Summary statistics:\n",
      "            Rating\n",
      "count  7919.000000\n",
      "mean      5.841621\n",
      "std       1.381777\n",
      "min       1.100000\n",
      "25%       4.900000\n",
      "50%       6.000000\n",
      "75%       6.800000\n",
      "max      10.000000\n",
      "\n",
      "First few rows of the dataset:\n",
      "                                 Name    Year Duration            Genre  \\\n",
      "0                                         NaN      NaN            Drama   \n",
      "1  #Gadhvi (He thought he was Gandhi)  (2019)  109 min            Drama   \n",
      "2                         #Homecoming  (2021)   90 min   Drama, Musical   \n",
      "3                             #Yaaram  (2019)  110 min  Comedy, Romance   \n",
      "4                   ...And Once Again  (2010)  105 min            Drama   \n",
      "\n",
      "   Rating Votes            Director       Actor 1             Actor 2  \\\n",
      "0     NaN   NaN       J.S. Randhawa      Manmauji              Birbal   \n",
      "1     7.0     8       Gaurav Bakshi  Rasika Dugal      Vivek Ghamande   \n",
      "2     NaN   NaN  Soumyajit Majumdar  Sayani Gupta   Plabita Borthakur   \n",
      "3     4.4    35          Ovais Khan       Prateik          Ishita Raj   \n",
      "4     NaN   NaN        Amol Palekar  Rajat Kapoor  Rituparna Sengupta   \n",
      "\n",
      "           Actor 3  \n",
      "0  Rajendra Bhatia  \n",
      "1    Arvind Jangid  \n",
      "2       Roy Angana  \n",
      "3  Siddhant Kapoor  \n",
      "4      Antara Mali  \n",
      "\n",
      "Last few rows of the dataset:\n",
      "                      Name    Year Duration          Genre  Rating Votes  \\\n",
      "15504  Zulm Ko Jala Doonga  (1988)      NaN         Action     4.6    11   \n",
      "15505                Zulmi  (1999)  129 min  Action, Drama     4.5   655   \n",
      "15506            Zulmi Raj  (2005)      NaN         Action     NaN   NaN   \n",
      "15507        Zulmi Shikari  (1988)      NaN         Action     NaN   NaN   \n",
      "15508         Zulm-O-Sitam  (1998)  130 min  Action, Drama     6.2    20   \n",
      "\n",
      "            Director           Actor 1         Actor 2        Actor 3  \n",
      "15504  Mahendra Shah  Naseeruddin Shah   Sumeet Saigal  Suparna Anand  \n",
      "15505     Kuku Kohli      Akshay Kumar  Twinkle Khanna    Aruna Irani  \n",
      "15506     Kiran Thej   Sangeeta Tiwari             NaN            NaN  \n",
      "15507            NaN               NaN             NaN            NaN  \n",
      "15508   K.C. Bokadia        Dharmendra      Jaya Prada    Arjun Sarja  \n",
      "\n",
      "Missing values in the dataset:\n",
      "Name           0\n",
      "Year         528\n",
      "Duration    8269\n",
      "Genre       1877\n",
      "Rating      7590\n",
      "Votes       7589\n",
      "Director     525\n",
      "Actor 1     1617\n",
      "Actor 2     2384\n",
      "Actor 3     3144\n",
      "dtype: int64\n"
     ]
    }
   ],
   "source": [
    "## Data Exploration\n",
    "print(\"Shape of the dataset:\", df.shape)  # Show the number of rows and columns\n",
    "print(\"\\nColumns in the dataset:\", df.columns)  # Display column names\n",
    "print(\"\\nData types of columns:\")\n",
    "print(df.dtypes)  # Show the data types of each column\n",
    "print(\"\\nSummary statistics:\")\n",
    "print(df.describe())  # Show summary statistics (mean, std, min, max, etc.) for numerical columns\n",
    "print(\"\\nFirst few rows of the dataset:\")\n",
    "print(df.head())  # Display the first few rows of the dataset\n",
    "print(\"\\nLast few rows of the dataset:\")\n",
    "print(df.tail())  # Display the last few rows of the dataset\n",
    "print(\"\\nMissing values in the dataset:\")\n",
    "print(df.isnull().sum())  # Show the count of missing values in each column"
   ]
  },
  {
   "cell_type": "code",
   "execution_count": 7,
   "id": "98fe990b",
   "metadata": {},
   "outputs": [
    {
     "data": {
      "image/png": "[encoded data removed]",
      "text/plain": [
       "<Figure size 800x400 with 1 Axes>"
      ]
     },
     "metadata": {},
     "output_type": "display_data"
    }
   ],
   "source": [
    "numeric_cols = df.select_dtypes(include=['float64', 'int64']).columns\n",
    "for col in numeric_cols:\n",
    "    plt.figure(figsize=(8, 4))\n",
    "    sns.histplot(df[col].dropna(), kde=True, bins=20)\n",
    "    plt.title(f'Histogram of {col}')\n",
    "    plt.xlabel(col)\n",
    "    plt.show()\n"
   ]
  },
  {
   "cell_type": "code",
   "execution_count": 8,
   "id": "52a58604",
   "metadata": {},
   "outputs": [
    {
     "data": {
      "image/png": "[encoded data removed]",
      "text/plain": [
       "<Figure size 800x600 with 1 Axes>"
      ]
     },
     "metadata": {},
     "output_type": "display_data"
    }
   ],
   "source": [
    "# Drop missing values in the 'Rating' column for visualization (if needed)\n",
    "df_ratings = df['Rating'].dropna()\n",
    "\n",
    "# Create a bar chart for the 'Rating' column\n",
    "plt.figure(figsize=(8, 6))\n",
    "plt.hist(df_ratings, bins=20, color='skyblue')\n",
    "plt.xlabel('Rating')\n",
    "plt.ylabel('Frequency')\n",
    "plt.title('Distribution of Ratings')\n",
    "plt.grid(axis='y', linestyle='--', alpha=0.7)\n",
    "plt.show()\n"
   ]
  },
  {
   "cell_type": "code",
   "execution_count": 9,
   "id": "17f9cd8d",
   "metadata": {},
   "outputs": [
    {
     "name": "stdout",
     "output_type": "stream",
     "text": [
      "Number of missing values in 'Year' column: 528\n"
     ]
    }
   ],
   "source": [
    "# Data Cleaning and prepocessing\n",
    "\n",
    "# Drop the 'Name' column from the DataFrame\n",
    "df.drop('Name', axis=1, inplace=True)\n",
    "\n",
    "\n",
    "## Check for missing values in the 'Year' column\n",
    "missing_values = df['Year'].isnull().sum()\n",
    "print(f\"Number of missing values in 'Year' column: {missing_values}\")\n",
    "\n",
    "# Fill missing values with a placeholder value or strategy (for example, 0 or -1)\n",
    "df['Year'].fillna('0', inplace=True)  # Replace NaNs with '0' (or any other appropriate strategy)\n",
    "\n",
    "# Remove non-numeric characters from the 'Year' column to extract the year part\n",
    "df['Year'] = df['Year'].astype(str).str.extract('(\\d+)').fillna('0').astype(int)\n",
    "\n",
    "# Extracting the numeric part from 'Duration' column and converting it to integers\n",
    "df['Duration'] = df['Duration'].str.extract('(\\d+)').astype(float).fillna(0).astype(int)\n",
    "\n",
    "# Fill missing values in the 'Duration' column with a placeholder value (e.g., 0)\n",
    "df['Duration'].fillna(0, inplace=True)\n",
    "\n",
    "# Convert 'Duration' column to integers after handling missing values\n",
    "df['Duration'] = df['Duration'].astype(int)\n",
    "\n",
    "# Split the 'Genre' column into binary variables using one-hot encoding\n",
    "genres = df['Genre'].str.get_dummies(', ')\n",
    "df = pd.concat([df, genres], axis=1)\n",
    "df.drop('Genre', axis=1, inplace=True)\n",
    "\n",
    "# Encode categorical variables: 'Director', 'Actor 1', 'Actor 2', 'Actor 3'\n",
    "label_encoders = {}\n",
    "categorical_cols = ['Director', 'Actor 1', 'Actor 2', 'Actor 3']\n",
    "\n",
    "for col in categorical_cols:\n",
    "    le = LabelEncoder()\n",
    "    df[col] = le.fit_transform(df[col])\n",
    "    label_encoders[col] = le\n"
   ]
  },
  {
   "cell_type": "code",
   "execution_count": 10,
   "id": "0987f774",
   "metadata": {},
   "outputs": [],
   "source": [
    "# Assuming 'Year' is the column with missing values in the DataFrame 'df'\n",
    "df.dropna(subset=['Year'], inplace=True)"
   ]
  },
  {
   "cell_type": "code",
   "execution_count": 11,
   "id": "3c4143b6",
   "metadata": {},
   "outputs": [
    {
     "name": "stdout",
     "output_type": "stream",
     "text": [
      "<class 'pandas.core.frame.DataFrame'>\n",
      "RangeIndex: 15509 entries, 0 to 15508\n",
      "Data columns (total 32 columns):\n",
      " #   Column       Non-Null Count  Dtype  \n",
      "---  ------       --------------  -----  \n",
      " 0   Year         15509 non-null  int32  \n",
      " 1   Duration     15509 non-null  int32  \n",
      " 2   Rating       7919 non-null   float64\n",
      " 3   Votes        7920 non-null   object \n",
      " 4   Director     15509 non-null  int32  \n",
      " 5   Actor 1      15509 non-null  int32  \n",
      " 6   Actor 2      15509 non-null  int32  \n",
      " 7   Actor 3      15509 non-null  int32  \n",
      " 8   Action       15509 non-null  int64  \n",
      " 9   Adventure    15509 non-null  int64  \n",
      " 10  Animation    15509 non-null  int64  \n",
      " 11  Biography    15509 non-null  int64  \n",
      " 12  Comedy       15509 non-null  int64  \n",
      " 13  Crime        15509 non-null  int64  \n",
      " 14  Documentary  15509 non-null  int64  \n",
      " 15  Drama        15509 non-null  int64  \n",
      " 16  Family       15509 non-null  int64  \n",
      " 17  Fantasy      15509 non-null  int64  \n",
      " 18  History      15509 non-null  int64  \n",
      " 19  Horror       15509 non-null  int64  \n",
      " 20  Music        15509 non-null  int64  \n",
      " 21  Musical      15509 non-null  int64  \n",
      " 22  Mystery      15509 non-null  int64  \n",
      " 23  News         15509 non-null  int64  \n",
      " 24  Reality-TV   15509 non-null  int64  \n",
      " 25  Romance      15509 non-null  int64  \n",
      " 26  Sci-Fi       15509 non-null  int64  \n",
      " 27  Short        15509 non-null  int64  \n",
      " 28  Sport        15509 non-null  int64  \n",
      " 29  Thriller     15509 non-null  int64  \n",
      " 30  War          15509 non-null  int64  \n",
      " 31  Western      15509 non-null  int64  \n",
      "dtypes: float64(1), int32(6), int64(24), object(1)\n",
      "memory usage: 3.4+ MB\n"
     ]
    }
   ],
   "source": [
    "df.info()"
   ]
  },
  {
   "cell_type": "code",
   "execution_count": 12,
   "id": "5535a602",
   "metadata": {},
   "outputs": [],
   "source": [
    "# Define feature and target variable\n",
    "X = df.drop(['Rating', 'Votes'], axis=1)\n",
    "y = df['Rating']"
   ]
  },
  {
   "cell_type": "code",
   "execution_count": 13,
   "id": "f61a0fd6",
   "metadata": {},
   "outputs": [
    {
     "name": "stdout",
     "output_type": "stream",
     "text": [
      "       Year  Duration  Director  Actor 1  Actor 2  Actor 3  Action  Adventure  \\\n",
      "0         0         0      1926     2250      800     3108       0          0   \n",
      "1      2019       109      1548     3280     4790      527       0          0   \n",
      "2      2021        90      5123     3713     2866     3450       0          0   \n",
      "3      2019       110      3319     2917     1504     4020       0          0   \n",
      "4      2010       105       385     3112     3462      405       0          0   \n",
      "...     ...       ...       ...      ...      ...      ...     ...        ...   \n",
      "15504  1988         0      2690     2586     4299     4262       1          0   \n",
      "15505  1999       129      2499      227     4532      519       1          0   \n",
      "15506  2005         0      2424     3609     4891     4820       1          0   \n",
      "15507  1988         0      5938     4718     4891     4820       1          0   \n",
      "15508  1998       130      2195     1139     1589      490       1          0   \n",
      "\n",
      "       Animation  Biography  ...  Mystery  News  Reality-TV  Romance  Sci-Fi  \\\n",
      "0              0          0  ...        0     0           0        0       0   \n",
      "1              0          0  ...        0     0           0        0       0   \n",
      "2              0          0  ...        0     0           0        0       0   \n",
      "3              0          0  ...        0     0           0        1       0   \n",
      "4              0          0  ...        0     0           0        0       0   \n",
      "...          ...        ...  ...      ...   ...         ...      ...     ...   \n",
      "15504          0          0  ...        0     0           0        0       0   \n",
      "15505          0          0  ...        0     0           0        0       0   \n",
      "15506          0          0  ...        0     0           0        0       0   \n",
      "15507          0          0  ...        0     0           0        0       0   \n",
      "15508          0          0  ...        0     0           0        0       0   \n",
      "\n",
      "       Short  Sport  Thriller  War  Western  \n",
      "0          0      0         0    0        0  \n",
      "1          0      0         0    0        0  \n",
      "2          0      0         0    0        0  \n",
      "3          0      0         0    0        0  \n",
      "4          0      0         0    0        0  \n",
      "...      ...    ...       ...  ...      ...  \n",
      "15504      0      0         0    0        0  \n",
      "15505      0      0         0    0        0  \n",
      "15506      0      0         0    0        0  \n",
      "15507      0      0         0    0        0  \n",
      "15508      0      0         0    0        0  \n",
      "\n",
      "[15509 rows x 30 columns]\n",
      "0        NaN\n",
      "1        7.0\n",
      "2        NaN\n",
      "3        4.4\n",
      "4        NaN\n",
      "        ... \n",
      "15504    4.6\n",
      "15505    4.5\n",
      "15506    NaN\n",
      "15507    NaN\n",
      "15508    6.2\n",
      "Name: Rating, Length: 15509, dtype: float64\n"
     ]
    }
   ],
   "source": [
    "# Printing feature variable 'X'\n",
    "print(X)\n",
    "\n",
    "# Printing target variable 'Y'\n",
    "print(y)\n"
   ]
  },
  {
   "cell_type": "code",
   "execution_count": 14,
   "id": "ad9cc0e0",
   "metadata": {},
   "outputs": [],
   "source": [
    "# Split data\n",
    "X_train, X_test, y_train, y_test = train_test_split(X, y, test_size=0.2, random_state=42)"
   ]
  },
  {
   "cell_type": "code",
   "execution_count": 15,
   "id": "0540b165",
   "metadata": {},
   "outputs": [
    {
     "name": "stdout",
     "output_type": "stream",
     "text": [
      "Shape of X_train: (12407, 30)\n",
      "Shape of y_train: (12407,)\n"
     ]
    }
   ],
   "source": [
    "print(\"Shape of X_train:\", X_train.shape)\n",
    "print(\"Shape of y_train:\", y_train.shape)\n"
   ]
  },
  {
   "cell_type": "code",
   "execution_count": 16,
   "id": "766518b6",
   "metadata": {},
   "outputs": [
    {
     "name": "stdout",
     "output_type": "stream",
     "text": [
      "Year           0\n",
      "Duration       0\n",
      "Director       0\n",
      "Actor 1        0\n",
      "Actor 2        0\n",
      "Actor 3        0\n",
      "Action         0\n",
      "Adventure      0\n",
      "Animation      0\n",
      "Biography      0\n",
      "Comedy         0\n",
      "Crime          0\n",
      "Documentary    0\n",
      "Drama          0\n",
      "Family         0\n",
      "Fantasy        0\n",
      "History        0\n",
      "Horror         0\n",
      "Music          0\n",
      "Musical        0\n",
      "Mystery        0\n",
      "News           0\n",
      "Reality-TV     0\n",
      "Romance        0\n",
      "Sci-Fi         0\n",
      "Short          0\n",
      "Sport          0\n",
      "Thriller       0\n",
      "War            0\n",
      "Western        0\n",
      "dtype: int64\n",
      "Year           0\n",
      "Duration       0\n",
      "Director       0\n",
      "Actor 1        0\n",
      "Actor 2        0\n",
      "Actor 3        0\n",
      "Action         0\n",
      "Adventure      0\n",
      "Animation      0\n",
      "Biography      0\n",
      "Comedy         0\n",
      "Crime          0\n",
      "Documentary    0\n",
      "Drama          0\n",
      "Family         0\n",
      "Fantasy        0\n",
      "History        0\n",
      "Horror         0\n",
      "Music          0\n",
      "Musical        0\n",
      "Mystery        0\n",
      "News           0\n",
      "Reality-TV     0\n",
      "Romance        0\n",
      "Sci-Fi         0\n",
      "Short          0\n",
      "Sport          0\n",
      "Thriller       0\n",
      "War            0\n",
      "Western        0\n",
      "dtype: int64\n"
     ]
    }
   ],
   "source": [
    "# Check for NaN or infinite values\n",
    "print(X_train.isnull().sum())\n",
    "print(X_train.isin([np.nan, np.inf, -np.inf]).sum())"
   ]
  },
  {
   "cell_type": "code",
   "execution_count": 17,
   "id": "d4938467",
   "metadata": {},
   "outputs": [
    {
     "name": "stdout",
     "output_type": "stream",
     "text": [
      "6047\n",
      "6047\n"
     ]
    }
   ],
   "source": [
    "# Check for NaN or infinite values\n",
    "print(y_train.isnull().sum())\n",
    "print(y_train.isin([np.nan, np.inf, -np.inf]).sum())"
   ]
  },
  {
   "cell_type": "code",
   "execution_count": 18,
   "id": "64719c76",
   "metadata": {},
   "outputs": [],
   "source": [
    "# Calculate mean of non-NaN values in y_train\n",
    "mean_y_train = y_train[~y_train.isnull()].mean()\n",
    "\n",
    "# Replace NaN values in y_train with the mean\n",
    "y_train.fillna(mean_y_train, inplace=True)"
   ]
  },
  {
   "cell_type": "code",
   "execution_count": 19,
   "id": "43e42d65",
   "metadata": {},
   "outputs": [
    {
     "name": "stdout",
     "output_type": "stream",
     "text": [
      "Fitting 5 folds for each of 10 candidates, totalling 50 fits\n",
      "Best parameters for RandomForestRegressor:\n",
      "{'n_estimators': 300, 'min_samples_split': 5, 'min_samples_leaf': 4, 'max_depth': 20}\n",
      "Fitting 5 folds for each of 10 candidates, totalling 50 fits\n",
      "Best parameters for GradientBoostingRegressor:\n",
      "{'n_estimators': 200, 'min_samples_split': 2, 'min_samples_leaf': 4, 'max_depth': 5, 'learning_rate': 0.1}\n",
      "Fitting 5 folds for each of 10 candidates, totalling 50 fits\n",
      "Best parameters for DecisionTreeRegressor:\n",
      "{'min_samples_split': 10, 'min_samples_leaf': 4, 'max_depth': 10}\n"
     ]
    }
   ],
   "source": [
    "# Model\n",
    "# Models and their respective hyperparameters for tuning\n",
    "models = [\n",
    "    {\n",
    "        'model': RandomForestRegressor(random_state=42),\n",
    "        'param_dist': {\n",
    "            'n_estimators': [100, 200, 300],\n",
    "            'max_depth': [None, 10, 20, 30],\n",
    "            'min_samples_split': [2, 5, 10],\n",
    "            'min_samples_leaf': [1, 2, 4]\n",
    "        }\n",
    "    },\n",
    "    {\n",
    "        'model': GradientBoostingRegressor(random_state=42),\n",
    "        'param_dist': {\n",
    "            'n_estimators': [100, 200, 300],\n",
    "            'max_depth': [3, 4, 5],\n",
    "            'min_samples_split': [2, 5, 10],\n",
    "            'min_samples_leaf': [1, 2, 4],\n",
    "            'learning_rate': [0.05, 0.1, 0.2]\n",
    "        }\n",
    "    },\n",
    "    {\n",
    "        'model': DecisionTreeRegressor(random_state=42),\n",
    "        'param_dist': {\n",
    "            'max_depth': [None, 5, 10, 15, 20],\n",
    "            'min_samples_split': [2, 5, 10],\n",
    "            'min_samples_leaf': [1, 2, 4]\n",
    "        }\n",
    "    }\n",
    "]\n",
    "\n",
    "# Hyperparameter tuning using RandomizedSearchCV for each model\n",
    "for model_info in models:\n",
    "    model = model_info['model']\n",
    "    param_dist = model_info['param_dist']\n",
    "    \n",
    "    random_search = RandomizedSearchCV(estimator=model, param_distributions=param_dist, n_iter=10, cv=5, n_jobs=-1, verbose=2)\n",
    "    random_search.fit(X_train, y_train)\n",
    "    \n",
    "    print(f\"Best parameters for {model.__class__.__name__}:\")\n",
    "    print(random_search.best_params_)\n",
    "    "
   ]
  }
 ],
 "metadata": {
  "kernelspec": {
   "display_name": "Python 3 (ipykernel)",
   "language": "python",
   "name": "python3"
  },
  "language_info": {
   "codemirror_mode": {
    "name": "ipython",
    "version": 3
   },
   "file_extension": ".py",
   "mimetype": "text/x-python",
   "name": "python",
   "nbconvert_exporter": "python",
   "pygments_lexer": "ipython3",
   "version": "3.9.13"
  }
 },
 "nbformat": 4,
 "nbformat_minor": 5
}
